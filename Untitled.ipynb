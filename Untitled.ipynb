{
 "cells": [
  {
   "cell_type": "code",
   "execution_count": 1,
   "id": "b45fc905",
   "metadata": {},
   "outputs": [
    {
     "name": "stdout",
     "output_type": "stream",
     "text": [
      "Requirement already satisfied: tashaphyne in c:\\users\\abood\\anaconda3\\lib\\site-packages (0.3.4.1)\n",
      "Requirement already satisfied: pyarabic in c:\\users\\abood\\anaconda3\\lib\\site-packages (from tashaphyne) (0.6.14)\n",
      "Requirement already satisfied: six>=1.14.0 in c:\\users\\abood\\anaconda3\\lib\\site-packages (from pyarabic->tashaphyne) (1.16.0)\n"
     ]
    }
   ],
   "source": [
    "!pip install tashaphyne\n"
   ]
  },
  {
   "cell_type": "code",
   "execution_count": 2,
   "id": "c6902539",
   "metadata": {},
   "outputs": [],
   "source": [
    "import numpy as np\n",
    "import pandas as pd\n",
    "import random\n",
    "import re\n",
    "import matplotlib.pyplot as plt\n",
    "from sklearn.utils import shuffle\n",
    "import string\n",
    "import math\n",
    "from sklearn.model_selection import train_test_split\n",
    "from sklearn.feature_extraction.text import CountVectorizer, TfidfVectorizer\n",
    "from sklearn.metrics import f1_score"
   ]
  },
  {
   "cell_type": "code",
   "execution_count": 3,
   "id": "5426e880",
   "metadata": {},
   "outputs": [],
   "source": [
    "data=pd.read_csv(\"sanad_Data.csv\",sep=',')"
   ]
  },
  {
   "cell_type": "code",
   "execution_count": 4,
   "id": "40ccb67c",
   "metadata": {},
   "outputs": [],
   "source": [
    "data = shuffle(data)\n"
   ]
  },
  {
   "cell_type": "code",
   "execution_count": 5,
   "id": "d5d9f8d5",
   "metadata": {},
   "outputs": [
    {
     "data": {
      "text/html": [
       "<div>\n",
       "<style scoped>\n",
       "    .dataframe tbody tr th:only-of-type {\n",
       "        vertical-align: middle;\n",
       "    }\n",
       "\n",
       "    .dataframe tbody tr th {\n",
       "        vertical-align: top;\n",
       "    }\n",
       "\n",
       "    .dataframe thead th {\n",
       "        text-align: right;\n",
       "    }\n",
       "</style>\n",
       "<table border=\"1\" class=\"dataframe\">\n",
       "  <thead>\n",
       "    <tr style=\"text-align: right;\">\n",
       "      <th></th>\n",
       "      <th>text</th>\n",
       "      <th>label</th>\n",
       "    </tr>\n",
       "  </thead>\n",
       "  <tbody>\n",
       "    <tr>\n",
       "      <th>34130</th>\n",
       "      <td>دبي - مدحت السويفي: أكد يوسف السعيدي، رئيس الع...</td>\n",
       "      <td>Tech</td>\n",
       "    </tr>\n",
       "    <tr>\n",
       "      <th>22431</th>\n",
       "      <td>عدن:«الخليج» شيع عدد كبير من المواطنين وقيادات...</td>\n",
       "      <td>Politics</td>\n",
       "    </tr>\n",
       "    <tr>\n",
       "      <th>31401</th>\n",
       "      <td>مع الكم الهائل من الألقاب التي أحرزها على مستو...</td>\n",
       "      <td>Sports</td>\n",
       "    </tr>\n",
       "    <tr>\n",
       "      <th>24078</th>\n",
       "      <td>استدعت وزارة الخارجية الألمانية أمس، السفير ال...</td>\n",
       "      <td>Politics</td>\n",
       "    </tr>\n",
       "    <tr>\n",
       "      <th>21824</th>\n",
       "      <td>كشف رئيس سلطة المياه الفلسطينية شداد العتيلي، ...</td>\n",
       "      <td>Politics</td>\n",
       "    </tr>\n",
       "  </tbody>\n",
       "</table>\n",
       "</div>"
      ],
      "text/plain": [
       "                                                    text     label\n",
       "34130  دبي - مدحت السويفي: أكد يوسف السعيدي، رئيس الع...      Tech\n",
       "22431  عدن:«الخليج» شيع عدد كبير من المواطنين وقيادات...  Politics\n",
       "31401  مع الكم الهائل من الألقاب التي أحرزها على مستو...    Sports\n",
       "24078  استدعت وزارة الخارجية الألمانية أمس، السفير ال...  Politics\n",
       "21824  كشف رئيس سلطة المياه الفلسطينية شداد العتيلي، ...  Politics"
      ]
     },
     "execution_count": 5,
     "metadata": {},
     "output_type": "execute_result"
    }
   ],
   "source": [
    "data.head()"
   ]
  },
  {
   "cell_type": "code",
   "execution_count": 6,
   "id": "0fc337ec",
   "metadata": {},
   "outputs": [
    {
     "data": {
      "text/plain": [
       "34130    دبي - مدحت السويفي: أكد يوسف السعيدي، رئيس الع...\n",
       "22431    عدن:«الخليج» شيع عدد كبير من المواطنين وقيادات...\n",
       "31401    مع الكم الهائل من الألقاب التي أحرزها على مستو...\n",
       "24078    استدعت وزارة الخارجية الألمانية أمس، السفير ال...\n",
       "21824    كشف رئيس سلطة المياه الفلسطينية شداد العتيلي، ...\n",
       "                               ...                        \n",
       "45434    نتفيأ هذه الأيام ظلال شهر رمضان المبارك، شهر ا...\n",
       "17895    الشارقة - \"الخليج\":أعلنت اللجنة العليا المنظمة...\n",
       "39596    من القيم الأصيلة في الإسلام، قيمة الحرية وعلى ...\n",
       "4710     أبدى الزائرون ل مشروع حوار الحضارات المقام في ...\n",
       "42716    قال لي: ما قصة الفتاوى التي تظهر هنا وهناك ما ...\n",
       "Name: text, Length: 45500, dtype: object"
      ]
     },
     "execution_count": 6,
     "metadata": {},
     "output_type": "execute_result"
    }
   ],
   "source": [
    "data['text']"
   ]
  },
  {
   "cell_type": "code",
   "execution_count": 8,
   "id": "8f628904",
   "metadata": {},
   "outputs": [
    {
     "data": {
      "text/plain": [
       "Tech        6500\n",
       "Politics    6500\n",
       "Sports      6500\n",
       "Medical     6500\n",
       "Religion    6500\n",
       "Finance     6500\n",
       "Culture     6500\n",
       "Name: label, dtype: int64"
      ]
     },
     "execution_count": 8,
     "metadata": {},
     "output_type": "execute_result"
    }
   ],
   "source": [
    "data.label.value_counts()"
   ]
  },
  {
   "cell_type": "code",
   "execution_count": 9,
   "id": "3ae7de9c",
   "metadata": {},
   "outputs": [
    {
     "data": {
      "text/plain": [
       "text      0\n",
       "label     0\n",
       "length    0\n",
       "dtype: int64"
      ]
     },
     "execution_count": 9,
     "metadata": {},
     "output_type": "execute_result"
    }
   ],
   "source": [
    "data.isnull().sum()"
   ]
  },
  {
   "cell_type": "code",
   "execution_count": 7,
   "id": "5a248a16",
   "metadata": {},
   "outputs": [
    {
     "data": {
      "text/html": [
       "<div>\n",
       "<style scoped>\n",
       "    .dataframe tbody tr th:only-of-type {\n",
       "        vertical-align: middle;\n",
       "    }\n",
       "\n",
       "    .dataframe tbody tr th {\n",
       "        vertical-align: top;\n",
       "    }\n",
       "\n",
       "    .dataframe thead th {\n",
       "        text-align: right;\n",
       "    }\n",
       "</style>\n",
       "<table border=\"1\" class=\"dataframe\">\n",
       "  <thead>\n",
       "    <tr style=\"text-align: right;\">\n",
       "      <th></th>\n",
       "      <th>text</th>\n",
       "      <th>label</th>\n",
       "      <th>length</th>\n",
       "    </tr>\n",
       "  </thead>\n",
       "  <tbody>\n",
       "    <tr>\n",
       "      <th>34130</th>\n",
       "      <td>دبي - مدحت السويفي: أكد يوسف السعيدي، رئيس الع...</td>\n",
       "      <td>Tech</td>\n",
       "      <td>2058</td>\n",
       "    </tr>\n",
       "    <tr>\n",
       "      <th>22431</th>\n",
       "      <td>عدن:«الخليج» شيع عدد كبير من المواطنين وقيادات...</td>\n",
       "      <td>Politics</td>\n",
       "      <td>450</td>\n",
       "    </tr>\n",
       "    <tr>\n",
       "      <th>31401</th>\n",
       "      <td>مع الكم الهائل من الألقاب التي أحرزها على مستو...</td>\n",
       "      <td>Sports</td>\n",
       "      <td>3196</td>\n",
       "    </tr>\n",
       "    <tr>\n",
       "      <th>24078</th>\n",
       "      <td>استدعت وزارة الخارجية الألمانية أمس، السفير ال...</td>\n",
       "      <td>Politics</td>\n",
       "      <td>486</td>\n",
       "    </tr>\n",
       "    <tr>\n",
       "      <th>21824</th>\n",
       "      <td>كشف رئيس سلطة المياه الفلسطينية شداد العتيلي، ...</td>\n",
       "      <td>Politics</td>\n",
       "      <td>984</td>\n",
       "    </tr>\n",
       "  </tbody>\n",
       "</table>\n",
       "</div>"
      ],
      "text/plain": [
       "                                                    text     label  length\n",
       "34130  دبي - مدحت السويفي: أكد يوسف السعيدي، رئيس الع...      Tech    2058\n",
       "22431  عدن:«الخليج» شيع عدد كبير من المواطنين وقيادات...  Politics     450\n",
       "31401  مع الكم الهائل من الألقاب التي أحرزها على مستو...    Sports    3196\n",
       "24078  استدعت وزارة الخارجية الألمانية أمس، السفير ال...  Politics     486\n",
       "21824  كشف رئيس سلطة المياه الفلسطينية شداد العتيلي، ...  Politics     984"
      ]
     },
     "execution_count": 7,
     "metadata": {},
     "output_type": "execute_result"
    }
   ],
   "source": [
    "data['length'] = data['text'].apply(len)\n",
    "data.head()"
   ]
  },
  {
   "cell_type": "code",
   "execution_count": 10,
   "id": "bc3c3787",
   "metadata": {},
   "outputs": [
    {
     "data": {
      "image/png": "[encoded data removed]",
      "text/plain": [
       "<Figure size 640x480 with 1 Axes>"
      ]
     },
     "metadata": {},
     "output_type": "display_data"
    }
   ],
   "source": [
    "data.label.value_counts().plot(kind='bar', title='label')\n",
    "plt.show()"
   ]
  },
  {
   "cell_type": "code",
   "execution_count": 11,
   "id": "7a142712",
   "metadata": {},
   "outputs": [
    {
     "data": {
      "text/plain": [
       "'ينظم معهد الشارقة للفنون معرضاً فنياً تحت عنوان باقة الفن، وذلك عند الساعة السابعة من مساء اليوم في مقر المعهد في منطقة الفنون في حي الشويهين في الشارقة، وتتلاقى في المعرض إبداعات 62 طالباً من المنتسبين للدراسة في المعهد في كافة التخصصات الفنية .'"
      ]
     },
     "execution_count": 11,
     "metadata": {},
     "output_type": "execute_result"
    }
   ],
   "source": [
    "x=data['text']\n",
    "x[0]"
   ]
  },
  {
   "cell_type": "code",
   "execution_count": 12,
   "id": "dd1d831e",
   "metadata": {},
   "outputs": [
    {
     "data": {
      "image/png": "[encoded data removed]",
      "text/plain": [
       "<Figure size 1200x1200 with 9 Axes>"
      ]
     },
     "metadata": {},
     "output_type": "display_data"
    }
   ],
   "source": [
    "#The length of characters based on categories\n",
    "data.hist(column='length', by='label', bins=50,figsize=(12,12));\n",
    "plt.show()"
   ]
  },
  {
   "cell_type": "code",
   "execution_count": 13,
   "id": "fdde5f15",
   "metadata": {},
   "outputs": [
    {
     "data": {
      "text/html": [
       "<div>\n",
       "<style scoped>\n",
       "    .dataframe tbody tr th:only-of-type {\n",
       "        vertical-align: middle;\n",
       "    }\n",
       "\n",
       "    .dataframe tbody tr th {\n",
       "        vertical-align: top;\n",
       "    }\n",
       "\n",
       "    .dataframe thead th {\n",
       "        text-align: right;\n",
       "    }\n",
       "</style>\n",
       "<table border=\"1\" class=\"dataframe\">\n",
       "  <thead>\n",
       "    <tr style=\"text-align: right;\">\n",
       "      <th></th>\n",
       "      <th>length</th>\n",
       "    </tr>\n",
       "  </thead>\n",
       "  <tbody>\n",
       "    <tr>\n",
       "      <th>count</th>\n",
       "      <td>45500.000000</td>\n",
       "    </tr>\n",
       "    <tr>\n",
       "      <th>mean</th>\n",
       "      <td>2195.819538</td>\n",
       "    </tr>\n",
       "    <tr>\n",
       "      <th>std</th>\n",
       "      <td>2003.519435</td>\n",
       "    </tr>\n",
       "    <tr>\n",
       "      <th>min</th>\n",
       "      <td>10.000000</td>\n",
       "    </tr>\n",
       "    <tr>\n",
       "      <th>25%</th>\n",
       "      <td>868.000000</td>\n",
       "    </tr>\n",
       "    <tr>\n",
       "      <th>50%</th>\n",
       "      <td>1559.000000</td>\n",
       "    </tr>\n",
       "    <tr>\n",
       "      <th>75%</th>\n",
       "      <td>2830.000000</td>\n",
       "    </tr>\n",
       "    <tr>\n",
       "      <th>max</th>\n",
       "      <td>33339.000000</td>\n",
       "    </tr>\n",
       "  </tbody>\n",
       "</table>\n",
       "</div>"
      ],
      "text/plain": [
       "             length\n",
       "count  45500.000000\n",
       "mean    2195.819538\n",
       "std     2003.519435\n",
       "min       10.000000\n",
       "25%      868.000000\n",
       "50%     1559.000000\n",
       "75%     2830.000000\n",
       "max    33339.000000"
      ]
     },
     "execution_count": 13,
     "metadata": {},
     "output_type": "execute_result"
    }
   ],
   "source": [
    "data.describe()"
   ]
  },
  {
   "cell_type": "code",
   "execution_count": 14,
   "id": "f1842173",
   "metadata": {},
   "outputs": [
    {
     "data": {
      "text/plain": [
       "في       544388\n",
       "من       416680\n",
       "على      243216\n",
       "إلى      168369\n",
       "أن       154849\n",
       ".        136733\n",
       "التي     100214\n",
       "عن        90148\n",
       "الله      71648\n",
       "مع        68816\n",
       "ما        67223\n",
       "الذي      66706\n",
       "لا        50852\n",
       "خلال      50391\n",
       "أو        49939\n",
       "هذا       48592\n",
       "درهم      43187\n",
       "هذه       42741\n",
       "حيث       39867\n",
       "بين       38124\n",
       "مليون     36336\n",
       "كل        35327\n",
       "عليه      35161\n",
       "كما       32814\n",
       "كان       31502\n",
       "بعد       31109\n",
       "إن        29276\n",
       "دبي       28037\n",
       "بنسبة     27328\n",
       "بن        27244\n",
       "ذلك       26470\n",
       "العام     24700\n",
       "هو        24298\n",
       "dtype: int64"
      ]
     },
     "execution_count": 14,
     "metadata": {},
     "output_type": "execute_result"
    }
   ],
   "source": [
    "#Identify common words\n",
    "\n",
    "freq = pd.Series(' '.join(data['text']).split()).value_counts()[:33]\n",
    "freq"
   ]
  },
  {
   "cell_type": "code",
   "execution_count": 15,
   "id": "f466980a",
   "metadata": {},
   "outputs": [
    {
     "data": {
      "text/plain": [
       "«خرقاً»           1\n",
       "أعضائها»          1\n",
       "السعودية.ودانت    1\n",
       "بإيران.           1\n",
       "السعوديتين        1\n",
       "بالرياض.وكانت     1\n",
       "الباسك.           1\n",
       "بمجفف             1\n",
       "وتندرت            1\n",
       "يثبتا             1\n",
       "dtype: int64"
      ]
     },
     "execution_count": 15,
     "metadata": {},
     "output_type": "execute_result"
    }
   ],
   "source": [
    "#Identify uncommon words\n",
    "\n",
    "freq1 =  pd.Series(' '.join(data['text']).split()).value_counts()[-10:]\n",
    "freq1"
   ]
  },
  {
   "cell_type": "code",
   "execution_count": 16,
   "id": "318cd351",
   "metadata": {},
   "outputs": [],
   "source": [
    "#Remove words and digits containing digits\n",
    "data['text'] = data['text'].apply(lambda x: re.sub('W*dw*','',x))\n"
   ]
  },
  {
   "cell_type": "code",
   "execution_count": 17,
   "id": "30cd2346",
   "metadata": {},
   "outputs": [],
   "source": [
    "#)  Remove Extra Spaces\n",
    "\n",
    "data[\"text\"] = data[\"text\"].apply(lambda text: re.sub(' +', ' ', text))"
   ]
  },
  {
   "cell_type": "code",
   "execution_count": 18,
   "id": "0715ac54",
   "metadata": {},
   "outputs": [
    {
     "data": {
      "text/html": [
       "<div>\n",
       "<style scoped>\n",
       "    .dataframe tbody tr th:only-of-type {\n",
       "        vertical-align: middle;\n",
       "    }\n",
       "\n",
       "    .dataframe tbody tr th {\n",
       "        vertical-align: top;\n",
       "    }\n",
       "\n",
       "    .dataframe thead th {\n",
       "        text-align: right;\n",
       "    }\n",
       "</style>\n",
       "<table border=\"1\" class=\"dataframe\">\n",
       "  <thead>\n",
       "    <tr style=\"text-align: right;\">\n",
       "      <th></th>\n",
       "      <th>text</th>\n",
       "      <th>label</th>\n",
       "      <th>length</th>\n",
       "    </tr>\n",
       "  </thead>\n",
       "  <tbody>\n",
       "    <tr>\n",
       "      <th>34130</th>\n",
       "      <td>دبي - مدحت السويفي: أكد يوسف السعيدي، رئيس الع...</td>\n",
       "      <td>Tech</td>\n",
       "      <td>2058</td>\n",
       "    </tr>\n",
       "    <tr>\n",
       "      <th>22431</th>\n",
       "      <td>عدن:«الخليج» شيع عدد كبير من المواطنين وقيادات...</td>\n",
       "      <td>Politics</td>\n",
       "      <td>450</td>\n",
       "    </tr>\n",
       "    <tr>\n",
       "      <th>31401</th>\n",
       "      <td>مع الكم الهائل من الألقاب التي أحرزها على مستو...</td>\n",
       "      <td>Sports</td>\n",
       "      <td>3196</td>\n",
       "    </tr>\n",
       "    <tr>\n",
       "      <th>24078</th>\n",
       "      <td>استدعت وزارة الخارجية الألمانية أمس، السفير ال...</td>\n",
       "      <td>Politics</td>\n",
       "      <td>486</td>\n",
       "    </tr>\n",
       "    <tr>\n",
       "      <th>21824</th>\n",
       "      <td>كشف رئيس سلطة المياه الفلسطينية شداد العتيلي، ...</td>\n",
       "      <td>Politics</td>\n",
       "      <td>984</td>\n",
       "    </tr>\n",
       "  </tbody>\n",
       "</table>\n",
       "</div>"
      ],
      "text/plain": [
       "                                                    text     label  length\n",
       "34130  دبي - مدحت السويفي: أكد يوسف السعيدي، رئيس الع...      Tech    2058\n",
       "22431  عدن:«الخليج» شيع عدد كبير من المواطنين وقيادات...  Politics     450\n",
       "31401  مع الكم الهائل من الألقاب التي أحرزها على مستو...    Sports    3196\n",
       "24078  استدعت وزارة الخارجية الألمانية أمس، السفير ال...  Politics     486\n",
       "21824  كشف رئيس سلطة المياه الفلسطينية شداد العتيلي، ...  Politics     984"
      ]
     },
     "execution_count": 18,
     "metadata": {},
     "output_type": "execute_result"
    }
   ],
   "source": [
    "data.head()"
   ]
  },
  {
   "cell_type": "code",
   "execution_count": 19,
   "id": "0d2fe5c2",
   "metadata": {},
   "outputs": [
    {
     "data": {
      "text/plain": [
       "13629"
      ]
     },
     "execution_count": 19,
     "metadata": {},
     "output_type": "execute_result"
    }
   ],
   "source": [
    "#!!!!! pip install Arabic-Stopwords\n",
    "\n",
    "import arabicstopwords.arabicstopwords as stp\n",
    "\n",
    "len(stp.stopwords_list())"
   ]
  },
  {
   "cell_type": "code",
   "execution_count": 20,
   "id": "aafaa067",
   "metadata": {},
   "outputs": [],
   "source": [
    "stop_words=stp.stopwords_list()"
   ]
  },
  {
   "cell_type": "code",
   "execution_count": 21,
   "id": "24987de1",
   "metadata": {},
   "outputs": [],
   "source": [
    "def remove_stopwords(text):\n",
    "    return \" \".join([word for word in str(text).split() if word not in stop_words])\n",
    "data['text'] = data['text'].apply(lambda x: remove_stopwords(x))"
   ]
  },
  {
   "cell_type": "code",
   "execution_count": 22,
   "id": "b1d1b937",
   "metadata": {
    "scrolled": true
   },
   "outputs": [
    {
     "data": {
      "text/html": [
       "<div>\n",
       "<style scoped>\n",
       "    .dataframe tbody tr th:only-of-type {\n",
       "        vertical-align: middle;\n",
       "    }\n",
       "\n",
       "    .dataframe tbody tr th {\n",
       "        vertical-align: top;\n",
       "    }\n",
       "\n",
       "    .dataframe thead th {\n",
       "        text-align: right;\n",
       "    }\n",
       "</style>\n",
       "<table border=\"1\" class=\"dataframe\">\n",
       "  <thead>\n",
       "    <tr style=\"text-align: right;\">\n",
       "      <th></th>\n",
       "      <th>text</th>\n",
       "      <th>label</th>\n",
       "      <th>length</th>\n",
       "    </tr>\n",
       "  </thead>\n",
       "  <tbody>\n",
       "    <tr>\n",
       "      <th>34130</th>\n",
       "      <td>دبي - مدحت السويفي: أكد يوسف السعيدي، رئيس الع...</td>\n",
       "      <td>Tech</td>\n",
       "      <td>2058</td>\n",
       "    </tr>\n",
       "    <tr>\n",
       "      <th>22431</th>\n",
       "      <td>عدن:«الخليج» شيع عدد كبير المواطنين وقيادات وش...</td>\n",
       "      <td>Politics</td>\n",
       "      <td>450</td>\n",
       "    </tr>\n",
       "    <tr>\n",
       "      <th>31401</th>\n",
       "      <td>الكم الهائل الألقاب أحرزها مستوى مسيرته الأندي...</td>\n",
       "      <td>Sports</td>\n",
       "      <td>3196</td>\n",
       "    </tr>\n",
       "    <tr>\n",
       "      <th>24078</th>\n",
       "      <td>استدعت وزارة الخارجية الألمانية أمس، السفير ال...</td>\n",
       "      <td>Politics</td>\n",
       "      <td>486</td>\n",
       "    </tr>\n",
       "    <tr>\n",
       "      <th>21824</th>\n",
       "      <td>كشف رئيس سلطة المياه الفلسطينية شداد العتيلي، ...</td>\n",
       "      <td>Politics</td>\n",
       "      <td>984</td>\n",
       "    </tr>\n",
       "  </tbody>\n",
       "</table>\n",
       "</div>"
      ],
      "text/plain": [
       "                                                    text     label  length\n",
       "34130  دبي - مدحت السويفي: أكد يوسف السعيدي، رئيس الع...      Tech    2058\n",
       "22431  عدن:«الخليج» شيع عدد كبير المواطنين وقيادات وش...  Politics     450\n",
       "31401  الكم الهائل الألقاب أحرزها مستوى مسيرته الأندي...    Sports    3196\n",
       "24078  استدعت وزارة الخارجية الألمانية أمس، السفير ال...  Politics     486\n",
       "21824  كشف رئيس سلطة المياه الفلسطينية شداد العتيلي، ...  Politics     984"
      ]
     },
     "execution_count": 22,
     "metadata": {},
     "output_type": "execute_result"
    }
   ],
   "source": [
    "data.head()"
   ]
  },
  {
   "cell_type": "code",
   "execution_count": null,
   "id": "626ed1e7",
   "metadata": {},
   "outputs": [],
   "source": [
    "data.head(22)"
   ]
  },
  {
   "cell_type": "code",
   "execution_count": 23,
   "id": "0c38e1fd",
   "metadata": {},
   "outputs": [],
   "source": [
    "#3) Remove_punctuations\n",
    "\n",
    "data['text'] = data['text'].apply(lambda x: re.sub('[%s]' % re.escape(string.punctuation), '' , x))\n"
   ]
  },
  {
   "cell_type": "code",
   "execution_count": 24,
   "id": "47353fb3",
   "metadata": {},
   "outputs": [
    {
     "data": {
      "text/html": [
       "<div>\n",
       "<style scoped>\n",
       "    .dataframe tbody tr th:only-of-type {\n",
       "        vertical-align: middle;\n",
       "    }\n",
       "\n",
       "    .dataframe tbody tr th {\n",
       "        vertical-align: top;\n",
       "    }\n",
       "\n",
       "    .dataframe thead th {\n",
       "        text-align: right;\n",
       "    }\n",
       "</style>\n",
       "<table border=\"1\" class=\"dataframe\">\n",
       "  <thead>\n",
       "    <tr style=\"text-align: right;\">\n",
       "      <th></th>\n",
       "      <th>text</th>\n",
       "      <th>label</th>\n",
       "      <th>length</th>\n",
       "    </tr>\n",
       "  </thead>\n",
       "  <tbody>\n",
       "    <tr>\n",
       "      <th>34130</th>\n",
       "      <td>دبي  مدحت السويفي أكد يوسف السعيدي، رئيس العمل...</td>\n",
       "      <td>Tech</td>\n",
       "      <td>2058</td>\n",
       "    </tr>\n",
       "    <tr>\n",
       "      <th>22431</th>\n",
       "      <td>عدن«الخليج» شيع عدد كبير المواطنين وقيادات وشخ...</td>\n",
       "      <td>Politics</td>\n",
       "      <td>450</td>\n",
       "    </tr>\n",
       "    <tr>\n",
       "      <th>31401</th>\n",
       "      <td>الكم الهائل الألقاب أحرزها مستوى مسيرته الأندي...</td>\n",
       "      <td>Sports</td>\n",
       "      <td>3196</td>\n",
       "    </tr>\n",
       "    <tr>\n",
       "      <th>24078</th>\n",
       "      <td>استدعت وزارة الخارجية الألمانية أمس، السفير ال...</td>\n",
       "      <td>Politics</td>\n",
       "      <td>486</td>\n",
       "    </tr>\n",
       "    <tr>\n",
       "      <th>21824</th>\n",
       "      <td>كشف رئيس سلطة المياه الفلسطينية شداد العتيلي، ...</td>\n",
       "      <td>Politics</td>\n",
       "      <td>984</td>\n",
       "    </tr>\n",
       "  </tbody>\n",
       "</table>\n",
       "</div>"
      ],
      "text/plain": [
       "                                                    text     label  length\n",
       "34130  دبي  مدحت السويفي أكد يوسف السعيدي، رئيس العمل...      Tech    2058\n",
       "22431  عدن«الخليج» شيع عدد كبير المواطنين وقيادات وشخ...  Politics     450\n",
       "31401  الكم الهائل الألقاب أحرزها مستوى مسيرته الأندي...    Sports    3196\n",
       "24078  استدعت وزارة الخارجية الألمانية أمس، السفير ال...  Politics     486\n",
       "21824  كشف رئيس سلطة المياه الفلسطينية شداد العتيلي، ...  Politics     984"
      ]
     },
     "execution_count": 24,
     "metadata": {},
     "output_type": "execute_result"
    }
   ],
   "source": [
    "data.head()"
   ]
  },
  {
   "cell_type": "code",
   "execution_count": 25,
   "id": "3a52ad41",
   "metadata": {},
   "outputs": [],
   "source": [
    "from sklearn.model_selection import train_test_split\n",
    "\n",
    "X_train, X_test, y_train, y_test = train_test_split(data[\"text\"], data[\"label\"], test_size=0.20, random_state=42)"
   ]
  },
  {
   "cell_type": "code",
   "execution_count": 26,
   "id": "ebef3341",
   "metadata": {},
   "outputs": [
    {
     "ename": "NameError",
     "evalue": "name 'c' is not defined",
     "output_type": "error",
     "traceback": [
      "\u001b[1;31m---------------------------------------------------------------------------\u001b[0m",
      "\u001b[1;31mNameError\u001b[0m                                 Traceback (most recent call last)",
      "\u001b[1;32m<ipython-input-26-584870652134>\u001b[0m in \u001b[0;36m<module>\u001b[1;34m\u001b[0m\n\u001b[1;32m----> 1\u001b[1;33m \u001b[0mc\u001b[0m\u001b[1;33m.\u001b[0m\u001b[0mfit\u001b[0m\u001b[1;33m(\u001b[0m\u001b[0mX_train\u001b[0m\u001b[1;33m.\u001b[0m\u001b[0mvalues\u001b[0m\u001b[1;33m.\u001b[0m\u001b[0mreshape\u001b[0m\u001b[1;33m(\u001b[0m\u001b[1;33m-\u001b[0m\u001b[1;36m1\u001b[0m\u001b[1;33m,\u001b[0m \u001b[1;36m1\u001b[0m\u001b[1;33m)\u001b[0m\u001b[1;33m,\u001b[0m \u001b[0my_train\u001b[0m\u001b[1;33m)\u001b[0m\u001b[1;33m\u001b[0m\u001b[1;33m\u001b[0m\u001b[0m\n\u001b[0m",
      "\u001b[1;31mNameError\u001b[0m: name 'c' is not defined"
     ]
    }
   ],
   "source": [
    "c.fit(X_train.values.reshape(-1, 1), y_train)\n"
   ]
  },
  {
   "cell_type": "code",
   "execution_count": 27,
   "id": "d9c9f24c",
   "metadata": {},
   "outputs": [
    {
     "data": {
      "text/plain": [
       "(36400, 446339)"
      ]
     },
     "execution_count": 27,
     "metadata": {},
     "output_type": "execute_result"
    }
   ],
   "source": [
    "from sklearn.feature_extraction.text import TfidfTransformer\n",
    "\n",
    "vectorizer = TfidfVectorizer()\n",
    "train_x_vectors = vectorizer.fit_transform(X_train)\n",
    "\n",
    "train_x_vectors.shape"
   ]
  },
  {
   "cell_type": "code",
   "execution_count": 28,
   "id": "48571b2e",
   "metadata": {},
   "outputs": [],
   "source": [
    "train_y_vectors=vectorizer.transform(y_train)\n",
    "test_x_vectors=vectorizer.transform(X_test)"
   ]
  },
  {
   "cell_type": "code",
   "execution_count": null,
   "id": "77ddf962",
   "metadata": {},
   "outputs": [],
   "source": [
    "\n",
    "    \n",
    "\n",
    "    "
   ]
  },
  {
   "cell_type": "code",
   "execution_count": 31,
   "id": "8b3aba24",
   "metadata": {},
   "outputs": [
    {
     "data": {
      "text/plain": [
       "SVC()"
      ]
     },
     "execution_count": 31,
     "metadata": {},
     "output_type": "execute_result"
    }
   ],
   "source": [
    "from sklearn import svm\n",
    "\n",
    "model = svm.SVC()\n",
    "model.fit(train_x_vectors, y_train)\n"
   ]
  },
  {
   "cell_type": "code",
   "execution_count": 32,
   "id": "0b6b56e6",
   "metadata": {},
   "outputs": [],
   "source": [
    "y_pred=model.predict(test_x_vectors)"
   ]
  },
  {
   "cell_type": "code",
   "execution_count": 33,
   "id": "f47ad58a",
   "metadata": {},
   "outputs": [
    {
     "data": {
      "text/plain": [
       "array(['Sports', 'Politics', 'Tech'], dtype=object)"
      ]
     },
     "execution_count": 33,
     "metadata": {},
     "output_type": "execute_result"
    }
   ],
   "source": [
    "test_set = ['محمد صلاح مرشح لجائزة الكرة الذهبية', \"وزير الوزراء السعودي الامير\", ' قامت شركة ابل باستعراض الايفون الجديد']\n",
    "\n",
    "new_test = vectorizer.transform(test_set)\n",
    "\n",
    "model.predict(new_test)"
   ]
  },
  {
   "cell_type": "code",
   "execution_count": 34,
   "id": "25c0b976",
   "metadata": {},
   "outputs": [
    {
     "data": {
      "text/plain": [
       "array(['Tech'], dtype=object)"
      ]
     },
     "execution_count": 34,
     "metadata": {},
     "output_type": "execute_result"
    }
   ],
   "source": [
    "c=[\" قامت شركة ابل باستعراض الايفون الجديد\"]\n",
    "\n",
    "te = vectorizer.transform(c)\n",
    "\n",
    "model.predict(te)"
   ]
  },
  {
   "cell_type": "code",
   "execution_count": 35,
   "id": "3a368204",
   "metadata": {},
   "outputs": [
    {
     "name": "stdout",
     "output_type": "stream",
     "text": [
      "0.9782417582417583\n"
     ]
    }
   ],
   "source": [
    "from sklearn.metrics import accuracy_score\n",
    "accuracy = accuracy_score(y_test, y_pred)\n",
    "print(accuracy)"
   ]
  },
  {
   "cell_type": "code",
   "execution_count": null,
   "id": "7c3f5d86",
   "metadata": {},
   "outputs": [],
   "source": []
  },
  {
   "cell_type": "code",
   "execution_count": null,
   "id": "90aa7ed9",
   "metadata": {},
   "outputs": [],
   "source": [
    "# save the model to disk\n",
    "\n",
    "filename = 'finalized_model.sav'\n",
    "joblib.dump(model, filename)"
   ]
  },
  {
   "cell_type": "code",
   "execution_count": null,
   "id": "bdff6008",
   "metadata": {},
   "outputs": [],
   "source": []
  },
  {
   "cell_type": "code",
   "execution_count": null,
   "id": "9c7e6ca5",
   "metadata": {},
   "outputs": [],
   "source": []
  },
  {
   "cell_type": "code",
   "execution_count": null,
   "id": "dc81db61",
   "metadata": {},
   "outputs": [],
   "source": []
  }
 ],
 "metadata": {
  "kernelspec": {
   "display_name": "Python 3",
   "language": "python",
   "name": "python3"
  },
  "language_info": {
   "codemirror_mode": {
    "name": "ipython",
    "version": 3
   },
   "file_extension": ".py",
   "mimetype": "text/x-python",
   "name": "python",
   "nbconvert_exporter": "python",
   "pygments_lexer": "ipython3",
   "version": "3.8.8"
  }
 },
 "nbformat": 4,
 "nbformat_minor": 5
}
